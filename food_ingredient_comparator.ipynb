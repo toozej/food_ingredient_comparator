{
 "cells": [
  {
   "cell_type": "code",
   "execution_count": 72,
   "id": "2dd69366",
   "metadata": {},
   "outputs": [],
   "source": [
    "purina_raw_ingredients = \"Turkey, chicken meal, soy flour, beef fat preserved with mixed-tocopherols, whole grain wheat, whole grain corn, corn gluten meal, soy flakes, corn germ meal, glycerin, venison, natural flavor, oat meal, calcium carbonate, salt, mono and dicalcium phosphate, caramel color, VITAMINS [Vitamin Esupplement, niacin (Vitamin B-3), Vitamin A supplement, calcium pantothenate (Vitamin B-5), thiaminemononitrate (Vitamin B-1), Vitamin B-12 supplement, riboflavin supplement (Vitamin B-2), pyridoxinehydrochloride (Vitamin B-6), folic acid (Vitamin B-9), Vitamin D-3 supplement, menadione sodium bisulfitecomplex (Vitamin K), biotin (Vitamin B-7)], potassium chloride, MINERALS [zinc sulfate, ferrous sulfate,manganese sulfate, copper sulfate, calcium iodate, sodium selenite], choline chloride.\"\n",
    "purina_ingredients = [x.lower().strip().translate(str.maketrans('', '', '(){}[].%*')) for x in purina_raw_ingredients.split(',')]"
   ]
  },
  {
   "cell_type": "code",
   "execution_count": 74,
   "id": "da06b4c6",
   "metadata": {},
   "outputs": [],
   "source": [
    "firstmate_raw_ingredients = \"Chicken Meal  Oatmeal  Brown Rice  Chicken Fat  (Mixed Tocopherols)  Tomato Pomace  Potassium Chloride  Choline Chloride  Calcium Propionate  Blueberries  Raspberries  Cranberries  Minerals  (Zinc Proteinate  Iron Proteinate  Calcium Carbonate  Manganese Proteinate  Copper Proteinate  Selenium Yeast  Calcium Iodate)  Vitamins  (Vitamin E Supplement  Niacin  Thiamine Mononitrate  D-pantothenic Acid  Vitamin A Supplement  Riboflavin  Pyridoxine Hydrochloride  Biotin  Vitamin B12 Supplement  Vitamin D3 Supplement  Folic Acid)  Glucosamine Hydrochloride\"\n",
    "firstmate_ingredients = [x.lower().strip().translate(str.maketrans('', '', '(){}[].%*')) for x in firstmate_raw_ingredients.split('  ')]"
   ]
  },
  {
   "cell_type": "code",
   "execution_count": 75,
   "id": "02daee29",
   "metadata": {},
   "outputs": [],
   "source": [
    "mesquite_turkey_raw_ingredients = \"TURKEY BREAST, WATER, MODIFIED CORNSTARCH, VINEGAR, SALT, CULTURED DEXTROSE*, SUGAR, SODIUM PHOSPHATES, CARRAGEENAN, COATED WITH PAPRIKA, DEHYDRATED CHILI PEPPERS, SPICES, FLAVOR, SALT\"\n",
    "mesquite_turkey_ingredients = [x.lower().strip().translate(str.maketrans('', '', '(){}[].%*')) for x in mesquite_turkey_raw_ingredients.split(',')]"
   ]
  },
  {
   "cell_type": "code",
   "execution_count": 76,
   "id": "c3b7673d",
   "metadata": {},
   "outputs": [],
   "source": [
    "rotisserie_chicken_raw_ingredients = \"CHICKEN BREAST, WATER, MODIFIED CORNSTARCH, VINEGAR, SALT, CULTURED DEXTROSE*, SUGAR, YEAST EXTRACT, SALT, DEXTROSE, ONION POWDER, NATURAL FLAVOR), SODIUM PHOSPHATES, CARRAGEENAN, POTASSIUM CHLORIDE, PAPRIKA, BLACK PEPPER, GARLIC POWDER, ONION POWDER, THYME.\"\n",
    "rotisserie_chicken_ingredients = [x.lower().strip().translate(str.maketrans('', '', '(){}[].%*')) for x in rotisserie_chicken_raw_ingredients.split(',')]"
   ]
  },
  {
   "cell_type": "code",
   "execution_count": 77,
   "id": "6d8f5452",
   "metadata": {
    "scrolled": true
   },
   "outputs": [
    {
     "name": "stdout",
     "output_type": "stream",
     "text": [
      "['turkey', 'chicken meal', 'soy flour', 'beef fat preserved with mixed-tocopherols', 'whole grain wheat', 'whole grain corn', 'corn gluten meal', 'soy flakes', 'corn germ meal', 'glycerin', 'venison', 'natural flavor', 'oat meal', 'calcium carbonate', 'salt', 'mono and dicalcium phosphate', 'caramel color', 'vitamins vitamin esupplement', 'niacin vitamin b-3', 'vitamin a supplement', 'calcium pantothenate vitamin b-5', 'thiaminemononitrate vitamin b-1', 'vitamin b-12 supplement', 'riboflavin supplement vitamin b-2', 'pyridoxinehydrochloride vitamin b-6', 'folic acid vitamin b-9', 'vitamin d-3 supplement', 'menadione sodium bisulfitecomplex vitamin k', 'biotin vitamin b-7', 'potassium chloride', 'minerals zinc sulfate', 'ferrous sulfate', 'manganese sulfate', 'copper sulfate', 'calcium iodate', 'sodium selenite', 'choline chloride']\n",
      "['chicken meal', 'oatmeal', 'brown rice', 'chicken fat', 'mixed tocopherols', 'tomato pomace', 'potassium chloride', 'choline chloride', 'calcium propionate', 'blueberries', 'raspberries', 'cranberries', 'minerals', 'zinc proteinate', 'iron proteinate', 'calcium carbonate', 'manganese proteinate', 'copper proteinate', 'selenium yeast', 'calcium iodate', 'vitamins', 'vitamin e supplement', 'niacin', 'thiamine mononitrate', 'd-pantothenic acid', 'vitamin a supplement', 'riboflavin', 'pyridoxine hydrochloride', 'biotin', 'vitamin b12 supplement', 'vitamin d3 supplement', 'folic acid', 'glucosamine hydrochloride']\n",
      "['turkey breast', 'water', 'modified cornstarch', 'vinegar', 'salt', 'cultured dextrose', 'sugar', 'sodium phosphates', 'carrageenan', 'coated with paprika', 'dehydrated chili peppers', 'spices', 'flavor', 'salt']\n",
      "['chicken breast', 'water', 'modified cornstarch', 'vinegar', 'salt', 'cultured dextrose', 'sugar', 'yeast extract', 'salt', 'dextrose', 'onion powder', 'natural flavor', 'sodium phosphates', 'carrageenan', 'potassium chloride', 'paprika', 'black pepper', 'garlic powder', 'onion powder', 'thyme']\n"
     ]
    }
   ],
   "source": [
    "print(purina_ingredients)\n",
    "print(firstmate_ingredients)\n",
    "print(mesquite_turkey_ingredients)\n",
    "print(rotisserie_chicken_ingredients)"
   ]
  },
  {
   "cell_type": "code",
   "execution_count": 78,
   "id": "897b6de6",
   "metadata": {},
   "outputs": [
    {
     "name": "stdout",
     "output_type": "stream",
     "text": [
      "['calcium iodate', 'vitamin a supplement', 'calcium carbonate', 'chicken meal', 'potassium chloride', 'choline chloride']\n",
      "['potassium chloride']\n"
     ]
    }
   ],
   "source": [
    "A = list(set(purina_ingredients).intersection(firstmate_ingredients))\n",
    "B = list(set(A).intersection(rotisserie_chicken_ingredients))\n",
    "print(A)\n",
    "print(B)"
   ]
  },
  {
   "cell_type": "code",
   "execution_count": 79,
   "id": "71a7ecf8",
   "metadata": {},
   "outputs": [
    {
     "data": {
      "text/plain": [
       "[]"
      ]
     },
     "execution_count": 79,
     "metadata": {},
     "output_type": "execute_result"
    }
   ],
   "source": [
    "list(set.intersection(set(purina_ingredients), set(firstmate_ingredients), set(mesquite_turkey_ingredients), set(rotisserie_chicken_ingredients)))"
   ]
  }
 ],
 "metadata": {
  "kernelspec": {
   "display_name": "Python 3 (ipykernel)",
   "language": "python",
   "name": "python3"
  },
  "language_info": {
   "codemirror_mode": {
    "name": "ipython",
    "version": 3
   },
   "file_extension": ".py",
   "mimetype": "text/x-python",
   "name": "python",
   "nbconvert_exporter": "python",
   "pygments_lexer": "ipython3",
   "version": "3.9.6"
  }
 },
 "nbformat": 4,
 "nbformat_minor": 5
}
